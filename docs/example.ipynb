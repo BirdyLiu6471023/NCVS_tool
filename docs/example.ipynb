{
 "cells": [
  {
   "cell_type": "markdown",
   "source": [
    "# NVCS_Tool Example usage\n",
    "\n",
    "To use `ncvs_tool` in a project:"
   ],
   "metadata": {}
  },
  {
   "cell_type": "code",
   "execution_count": 12,
   "source": [
    "import ncvs_tool\n",
    "\n",
    "print(ncvs_tool.__version__)"
   ],
   "outputs": [],
   "metadata": {}
  },
  {
   "cell_type": "markdown",
   "source": [
    "## Query Data\n",
    "The data requested from API is encoded version, shown as follow (e.g.year = 2020) :"
   ],
   "metadata": {
    "collapsed": false
   }
  },
  {
   "cell_type": "code",
   "execution_count": 23,
   "outputs": [
    {
     "name": "stdout",
     "output_type": "stream",
     "text": [
      "There are totally 1618 records.\n"
     ]
    }
   ],
   "source": [
    "# this is tool to query data\n",
    "from ncvs_tool import ncvs_tool as ntool\n",
    "\n",
    "# access National Crime Victimization Survey \"Personal Victimization\" data in 2020 directly without original label meaning:\n",
    "df_2020_encode = ntool.NCVStool(dataname = \"Personal Victimization\").query(encode = True, year = 2020)\n",
    "print(f\"There are totally {len(df_2020_encode)} records.\")"
   ],
   "metadata": {
    "collapsed": false
   }
  },
  {
   "cell_type": "code",
   "execution_count": 24,
   "outputs": [
    {
     "name": "stdout",
     "output_type": "stream",
     "text": [
      "There are totally 1618 records.\n"
     ]
    }
   ],
   "source": [
    "# access National Crime Victimization Survey \"Personal Victimization\" data in 2020 with original label meaning:\n",
    "df_2020_encode = ntool.NCVStool(dataname = \"Personal Victimization\").query(encode = False, year = 2020)\n",
    "print(f\"There are totally {len(df_2020_encode)} records.\")"
   ],
   "metadata": {
    "collapsed": false
   }
  },
  {
   "cell_type": "markdown",
   "source": [
    "### Query with condition:\n",
    "> where = \"condition1 AND condition2 ...\" or where = \"condition1 OR condition2 ...\"\n",
    "> condition could be with \">\", \"<\", \">=\" or  \"<=\", etc."
   ],
   "metadata": {
    "collapsed": false
   }
  },
  {
   "cell_type": "code",
   "execution_count": 6,
   "outputs": [
    {
     "name": "stdout",
     "output_type": "stream",
     "text": [
      "There are totally 388 records.\n"
     ]
    },
    {
     "data": {
      "text/plain": "                         idper   yearq  year   ager     sex      hispanic  \\\n0  193887138419998156323411602  2020.1  2020  18-24  Female  Non-Hispanic   \n1  175842688444367756825621201  2020.1  2020  35-49  Female  Non-Hispanic   \n2  167811020352351956383612102  2020.1  2020  25-34  Female  Non-Hispanic   \n\n                                         race  \\\n0                                       White   \n1                                       Black   \n2  Asian NativeHawaiian OtherPacific Islander   \n\n                                      race_ethnicity            hincome1  \\\n0                                 Non-Hispanic white  $35,000 to $49,999   \n1                                 Non-Hispanic black   $7,500 to $14,999   \n2  Non-Hispanic Asian Native Hawaiian Other Pacif...     $75,000 or more   \n\n             hincome2  ...    weapcat       injury       serious  \\\n0  $25,000 to $49,999  ...  No weapon  Not injured     No injury   \n1   Less than $25,000  ...  No weapon      Injured  Minor injury   \n2    $200,000 or more  ...    Firearm  Not injured     No injury   \n\n           treatment  offenderage offendersex         offtracenew  \\\n0        Not injured  30 or older        Male  Non-Hispanic black   \n1  Treated at scene,        18-29        Male  Non-Hispanic black   \n2        Not injured        18-29        Male  Non-Hispanic black   \n\n           wgtviccy              series            newwgt  \n0  3009.73774288887  Not a series crime  3009.73774288887  \n1   6711.7784537528  Not a series crime   6711.7784537528  \n2   5916.7057363109  Not a series crime   5916.7057363109  \n\n[3 rows x 37 columns]",
      "text/html": "<div>\n<style scoped>\n    .dataframe tbody tr th:only-of-type {\n        vertical-align: middle;\n    }\n\n    .dataframe tbody tr th {\n        vertical-align: top;\n    }\n\n    .dataframe thead th {\n        text-align: right;\n    }\n</style>\n<table border=\"1\" class=\"dataframe\">\n  <thead>\n    <tr style=\"text-align: right;\">\n      <th></th>\n      <th>idper</th>\n      <th>yearq</th>\n      <th>year</th>\n      <th>ager</th>\n      <th>sex</th>\n      <th>hispanic</th>\n      <th>race</th>\n      <th>race_ethnicity</th>\n      <th>hincome1</th>\n      <th>hincome2</th>\n      <th>...</th>\n      <th>weapcat</th>\n      <th>injury</th>\n      <th>serious</th>\n      <th>treatment</th>\n      <th>offenderage</th>\n      <th>offendersex</th>\n      <th>offtracenew</th>\n      <th>wgtviccy</th>\n      <th>series</th>\n      <th>newwgt</th>\n    </tr>\n  </thead>\n  <tbody>\n    <tr>\n      <th>0</th>\n      <td>193887138419998156323411602</td>\n      <td>2020.1</td>\n      <td>2020</td>\n      <td>18-24</td>\n      <td>Female</td>\n      <td>Non-Hispanic</td>\n      <td>White</td>\n      <td>Non-Hispanic white</td>\n      <td>$35,000 to $49,999</td>\n      <td>$25,000 to $49,999</td>\n      <td>...</td>\n      <td>No weapon</td>\n      <td>Not injured</td>\n      <td>No injury</td>\n      <td>Not injured</td>\n      <td>30 or older</td>\n      <td>Male</td>\n      <td>Non-Hispanic black</td>\n      <td>3009.73774288887</td>\n      <td>Not a series crime</td>\n      <td>3009.73774288887</td>\n    </tr>\n    <tr>\n      <th>1</th>\n      <td>175842688444367756825621201</td>\n      <td>2020.1</td>\n      <td>2020</td>\n      <td>35-49</td>\n      <td>Female</td>\n      <td>Non-Hispanic</td>\n      <td>Black</td>\n      <td>Non-Hispanic black</td>\n      <td>$7,500 to $14,999</td>\n      <td>Less than $25,000</td>\n      <td>...</td>\n      <td>No weapon</td>\n      <td>Injured</td>\n      <td>Minor injury</td>\n      <td>Treated at scene,</td>\n      <td>18-29</td>\n      <td>Male</td>\n      <td>Non-Hispanic black</td>\n      <td>6711.7784537528</td>\n      <td>Not a series crime</td>\n      <td>6711.7784537528</td>\n    </tr>\n    <tr>\n      <th>2</th>\n      <td>167811020352351956383612102</td>\n      <td>2020.1</td>\n      <td>2020</td>\n      <td>25-34</td>\n      <td>Female</td>\n      <td>Non-Hispanic</td>\n      <td>Asian NativeHawaiian OtherPacific Islander</td>\n      <td>Non-Hispanic Asian Native Hawaiian Other Pacif...</td>\n      <td>$75,000 or more</td>\n      <td>$200,000 or more</td>\n      <td>...</td>\n      <td>Firearm</td>\n      <td>Not injured</td>\n      <td>No injury</td>\n      <td>Not injured</td>\n      <td>18-29</td>\n      <td>Male</td>\n      <td>Non-Hispanic black</td>\n      <td>5916.7057363109</td>\n      <td>Not a series crime</td>\n      <td>5916.7057363109</td>\n    </tr>\n  </tbody>\n</table>\n<p>3 rows × 37 columns</p>\n</div>"
     },
     "execution_count": 6,
     "metadata": {},
     "output_type": "execute_result"
    }
   ],
   "source": [
    "# access National Crime Victimization Survey \"Personal Victimization\" data in 2020 with original label meaning\n",
    "# and query condition is \"reported to police\" and \"sex is female\":\n",
    "df_2020_encode = ntool.NCVStool(dataname = \"Personal Victimization\").query(encode = False, year = 2020, where = \"notify=1 AND sex=2\")\n",
    "print(f\"There are totally {len(df_2020_encode)} records.\")"
   ],
   "metadata": {
    "collapsed": false
   }
  },
  {
   "cell_type": "code",
   "execution_count": 7,
   "outputs": [
    {
     "name": "stdout",
     "output_type": "stream",
     "text": [
      "{'race_ethnicity', 'newoff', 'serious', 'idper', 'seriousviolent', 'direl', 'offendersex', 'ager', 'injury', 'treatment', 'newcrime', 'year', 'vicservices', 'weapcat', 'wgtviccy', 'hispanic', 'citizen', 'hincome2', 'notify', 'hincome1', 'sex', 'msa', 'veteran', 'popsize', 'educatn1', 'race', 'region', 'yearq', 'marital', 'offtracenew', 'locality', 'offenderage', 'series', 'newwgt', 'locationr', 'weapon', 'educatn2'}\n"
     ]
    }
   ],
   "source": [
    "# get valid params:\n",
    "valid_params = ntool.NCVStool(dataname = \"Personal Victimization\").get_valid_params()\n",
    "print(valid_params)"
   ],
   "metadata": {
    "collapsed": false
   }
  },
  {
   "cell_type": "code",
   "execution_count": 31,
   "outputs": [],
   "source": [
    "# get valid labels for a certain param:\n",
    "# valid_labels_weapon = ntool.NCVStool().get_valid_label(\"weapon\")\n",
    "# print(valid_labels_weapon)"
   ],
   "metadata": {
    "collapsed": false
   }
  },
  {
   "cell_type": "markdown",
   "source": [
    "## Simple Analysis\n",
    "1) get yearly amount of victimization and its rate, this is a time series with option to output picture;\n",
    "\n",
    "2) get yearly report of certain feature in subgroups, with option to output comparison plot."
   ],
   "metadata": {
    "collapsed": false
   }
  },
  {
   "cell_type": "code",
   "execution_count": 19,
   "outputs": [
    {
     "data": {
      "text/plain": "<Figure size 400x300 with 1 Axes>",
      "image/png": "[encoded data removed]"
     },
     "metadata": {},
     "output_type": "display_data"
    }
   ],
   "source": [
    "# getting the situation of \"report to police\" in subgroup of different crimes:\n",
    "from ncvs_tool import ncvs_aly as naly\n",
    "df_2020_crimes_notify = naly.year_report(year = 2020, group = \"newoff\", target=\"notify\", dataname=\"Personal Victimization\", target_range=2, pivot=True,encode=False, output_pct=False, output_picture=True)"
   ],
   "metadata": {
    "collapsed": false
   }
  },
  {
   "cell_type": "code",
   "execution_count": 20,
   "outputs": [
    {
     "data": {
      "text/plain": "notify                   No  Yes\nnewoff                          \nAggravated assault      109  206\nPersonal theft larceny   13   10\nRape sexual assault      80   29\nRobbery                  52   88\nSimple assault          602  393",
      "text/html": "<div>\n<style scoped>\n    .dataframe tbody tr th:only-of-type {\n        vertical-align: middle;\n    }\n\n    .dataframe tbody tr th {\n        vertical-align: top;\n    }\n\n    .dataframe thead th {\n        text-align: right;\n    }\n</style>\n<table border=\"1\" class=\"dataframe\">\n  <thead>\n    <tr style=\"text-align: right;\">\n      <th>notify</th>\n      <th>No</th>\n      <th>Yes</th>\n    </tr>\n    <tr>\n      <th>newoff</th>\n      <th></th>\n      <th></th>\n    </tr>\n  </thead>\n  <tbody>\n    <tr>\n      <th>Aggravated assault</th>\n      <td>109</td>\n      <td>206</td>\n    </tr>\n    <tr>\n      <th>Personal theft larceny</th>\n      <td>13</td>\n      <td>10</td>\n    </tr>\n    <tr>\n      <th>Rape sexual assault</th>\n      <td>80</td>\n      <td>29</td>\n    </tr>\n    <tr>\n      <th>Robbery</th>\n      <td>52</td>\n      <td>88</td>\n    </tr>\n    <tr>\n      <th>Simple assault</th>\n      <td>602</td>\n      <td>393</td>\n    </tr>\n  </tbody>\n</table>\n</div>"
     },
     "execution_count": 20,
     "metadata": {},
     "output_type": "execute_result"
    }
   ],
   "source": [
    "df_2020_crimes_notify\n",
    "# this is pivot version and output is count of each crimes in \"no\" or \"yes\":"
   ],
   "metadata": {
    "collapsed": false
   }
  },
  {
   "cell_type": "code",
   "execution_count": 21,
   "outputs": [
    {
     "data": {
      "text/plain": "notify                        No       Yes\nnewoff                                    \nAggravated assault      0.346032  0.653968\nPersonal theft larceny  0.565217  0.434783\nRape sexual assault     0.733945  0.266055\nRobbery                 0.371429  0.628571\nSimple assault          0.605025  0.394975",
      "text/html": "<div>\n<style scoped>\n    .dataframe tbody tr th:only-of-type {\n        vertical-align: middle;\n    }\n\n    .dataframe tbody tr th {\n        vertical-align: top;\n    }\n\n    .dataframe thead th {\n        text-align: right;\n    }\n</style>\n<table border=\"1\" class=\"dataframe\">\n  <thead>\n    <tr style=\"text-align: right;\">\n      <th>notify</th>\n      <th>No</th>\n      <th>Yes</th>\n    </tr>\n    <tr>\n      <th>newoff</th>\n      <th></th>\n      <th></th>\n    </tr>\n  </thead>\n  <tbody>\n    <tr>\n      <th>Aggravated assault</th>\n      <td>0.346032</td>\n      <td>0.653968</td>\n    </tr>\n    <tr>\n      <th>Personal theft larceny</th>\n      <td>0.565217</td>\n      <td>0.434783</td>\n    </tr>\n    <tr>\n      <th>Rape sexual assault</th>\n      <td>0.733945</td>\n      <td>0.266055</td>\n    </tr>\n    <tr>\n      <th>Robbery</th>\n      <td>0.371429</td>\n      <td>0.628571</td>\n    </tr>\n    <tr>\n      <th>Simple assault</th>\n      <td>0.605025</td>\n      <td>0.394975</td>\n    </tr>\n  </tbody>\n</table>\n</div>"
     },
     "execution_count": 21,
     "metadata": {},
     "output_type": "execute_result"
    }
   ],
   "source": [
    "## same exmple as before, but opt out to output picture and provide percentage of \"notify to police\" in each subgroup of crimes:\n",
    "df_2020_crimes_notify_pct = naly.year_report(year = 2020, group = \"newoff\", target=\"notify\", dataname=\"Personal Victimization\", target_range=2, pivot=True,encode=False, output_pct=True, output_picture=False)\n",
    "df_2020_crimes_notify_pct"
   ],
   "metadata": {
    "collapsed": false
   }
  },
  {
   "cell_type": "code",
   "execution_count": 22,
   "outputs": [
    {
     "data": {
      "text/plain": "                    newoff notify  count\n0      Rape sexual assault    Yes     29\n1      Rape sexual assault     No     80\n4                  Robbery    Yes     88\n5                  Robbery     No     52\n7       Aggravated assault    Yes    206\n8       Aggravated assault     No    109\n10          Simple assault    Yes    393\n11          Simple assault     No    602\n14  Personal theft larceny    Yes     10\n15  Personal theft larceny     No     13",
      "text/html": "<div>\n<style scoped>\n    .dataframe tbody tr th:only-of-type {\n        vertical-align: middle;\n    }\n\n    .dataframe tbody tr th {\n        vertical-align: top;\n    }\n\n    .dataframe thead th {\n        text-align: right;\n    }\n</style>\n<table border=\"1\" class=\"dataframe\">\n  <thead>\n    <tr style=\"text-align: right;\">\n      <th></th>\n      <th>newoff</th>\n      <th>notify</th>\n      <th>count</th>\n    </tr>\n  </thead>\n  <tbody>\n    <tr>\n      <th>0</th>\n      <td>Rape sexual assault</td>\n      <td>Yes</td>\n      <td>29</td>\n    </tr>\n    <tr>\n      <th>1</th>\n      <td>Rape sexual assault</td>\n      <td>No</td>\n      <td>80</td>\n    </tr>\n    <tr>\n      <th>4</th>\n      <td>Robbery</td>\n      <td>Yes</td>\n      <td>88</td>\n    </tr>\n    <tr>\n      <th>5</th>\n      <td>Robbery</td>\n      <td>No</td>\n      <td>52</td>\n    </tr>\n    <tr>\n      <th>7</th>\n      <td>Aggravated assault</td>\n      <td>Yes</td>\n      <td>206</td>\n    </tr>\n    <tr>\n      <th>8</th>\n      <td>Aggravated assault</td>\n      <td>No</td>\n      <td>109</td>\n    </tr>\n    <tr>\n      <th>10</th>\n      <td>Simple assault</td>\n      <td>Yes</td>\n      <td>393</td>\n    </tr>\n    <tr>\n      <th>11</th>\n      <td>Simple assault</td>\n      <td>No</td>\n      <td>602</td>\n    </tr>\n    <tr>\n      <th>14</th>\n      <td>Personal theft larceny</td>\n      <td>Yes</td>\n      <td>10</td>\n    </tr>\n    <tr>\n      <th>15</th>\n      <td>Personal theft larceny</td>\n      <td>No</td>\n      <td>13</td>\n    </tr>\n  </tbody>\n</table>\n</div>"
     },
     "execution_count": 22,
     "metadata": {},
     "output_type": "execute_result"
    }
   ],
   "source": [
    "# getting data without pivot, tidy version of data:\n",
    "df_2020_crimes_notify_pct = naly.year_report(year = 2020, group = \"newoff\", target=\"notify\", dataname=\"Personal Victimization\", target_range=2, pivot=False,encode=False, output_picture=False)\n",
    "df_2020_crimes_notify_pct"
   ],
   "metadata": {
    "collapsed": false
   }
  },
  {
   "cell_type": "code",
   "execution_count": null,
   "outputs": [],
   "source": [],
   "metadata": {
    "collapsed": false
   }
  }
 ],
 "metadata": {
  "kernelspec": {
   "display_name": "Python 3",
   "language": "python",
   "name": "python3"
  },
  "language_info": {
   "codemirror_mode": {
    "name": "ipython",
    "version": 3
   },
   "file_extension": ".py",
   "mimetype": "text/x-python",
   "name": "python",
   "nbconvert_exporter": "python",
   "pygments_lexer": "ipython3",
   "version": "3.8.5"
  }
 },
 "nbformat": 4,
 "nbformat_minor": 4
}
